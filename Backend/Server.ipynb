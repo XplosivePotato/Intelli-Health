{
 "cells": [
  {
   "cell_type": "code",
   "execution_count": 1,
   "id": "a696c996",
   "metadata": {},
   "outputs": [],
   "source": [
    "from flask import Flask, render_template, request, redirect, url_for\n",
    "import pickle\n",
    "import numpy as np"
   ]
  },
  {
   "cell_type": "code",
   "execution_count": null,
   "id": "94821154",
   "metadata": {},
   "outputs": [],
   "source": []
  },
  {
   "cell_type": "code",
   "execution_count": 2,
   "id": "2c7b9e70",
   "metadata": {},
   "outputs": [],
   "source": [
    "# Loading models \n",
    "chronic_dis_pred = pickle.load(open(\"models/trained_model_Kidney_disease.pkl\",'rb'))\n",
    "diabetes_pred = pickle.load(open(\"models/trained_model_diabetes_pred_knn.pkl\",'rb'))\n",
    "heartAttackRisk_pred = pickle.load(open(\"models/trained_model_heartAttack_risk_RFC.pkl\",'rb'))"
   ]
  },
  {
   "cell_type": "code",
   "execution_count": null,
   "id": "a0100ddb",
   "metadata": {},
   "outputs": [
    {
     "name": "stdout",
     "output_type": "stream",
     "text": [
      " * Serving Flask app \"__main__\" (lazy loading)\n",
      " * Environment: production\n",
      "\u001b[31m   WARNING: This is a development server. Do not use it in a production deployment.\u001b[0m\n",
      "\u001b[2m   Use a production WSGI server instead.\u001b[0m\n",
      " * Debug mode: off\n"
     ]
    },
    {
     "name": "stderr",
     "output_type": "stream",
     "text": [
      " * Running on http://127.0.0.1:5000/ (Press CTRL+C to quit)\n",
      "127.0.0.1 - - [26/Feb/2023 01:57:09] \"GET / HTTP/1.1\" 200 -\n"
     ]
    },
    {
     "name": "stdout",
     "output_type": "stream",
     "text": [
      "http://127.0.0.1:5000/\n"
     ]
    },
    {
     "name": "stderr",
     "output_type": "stream",
     "text": [
      "127.0.0.1 - - [26/Feb/2023 01:57:09] \"GET /favicon.ico HTTP/1.1\" 404 -\n",
      "127.0.0.1 - - [26/Feb/2023 01:57:11] \"GET /test HTTP/1.1\" 200 -\n"
     ]
    },
    {
     "name": "stdout",
     "output_type": "stream",
     "text": [
      "<generator object test.<locals>.<genexpr> at 0x000002026130E6D0>\n",
      "{'input': [1, 2, 3, 4, 5]}\n"
     ]
    },
    {
     "name": "stderr",
     "output_type": "stream",
     "text": [
      "127.0.0.1 - - [26/Feb/2023 01:57:17] \"GET /ping HTTP/1.1\" 200 -\n",
      "127.0.0.1 - - [26/Feb/2023 01:57:47] \"GET /ping HTTP/1.1\" 200 -\n",
      "127.0.0.1 - - [26/Feb/2023 01:59:35] \"GET /test HTTP/1.1\" 200 -\n"
     ]
    },
    {
     "name": "stdout",
     "output_type": "stream",
     "text": [
      "<generator object test.<locals>.<genexpr> at 0x000002026130E900>\n",
      "{'input': [1, 2, 3, 4, 5]}\n"
     ]
    },
    {
     "name": "stderr",
     "output_type": "stream",
     "text": [
      "127.0.0.1 - - [26/Feb/2023 02:00:42] \"GET /ping HTTP/1.1\" 200 -\n"
     ]
    }
   ],
   "source": [
    "app = Flask(__name__)\n",
    "\n",
    "@app.route(\"/\")\n",
    "def Home():\n",
    "    print('http://127.0.0.1:5000/')\n",
    "    return \"Server running...\"\n",
    "\n",
    "@app.route(\"/ping\")\n",
    "def pingPong():\n",
    "    data = {'message':\"pong\"}\n",
    "    return data\n",
    "\n",
    "@app.route(\"/test\")\n",
    "def test():\n",
    "    \n",
    "    #data = request.json\n",
    "    data = {\n",
    "        'input': [1,2,3,4,5]\n",
    "    }\n",
    "    print(x for x in data)\n",
    "    print(data)\n",
    "    return data\n",
    "\n",
    "''' \n",
    "@app.route(\"kidney-disease\", methods=['POST'])\n",
    "def d01():\n",
    "    data = request.json\n",
    "    \n",
    "    float_features = [float(x) for x in data]\n",
    "    features = [np.array(float_features)]\n",
    "    print(\"Features: \", features)\n",
    "    prediction = chronic_dis_pred.predict(features)\n",
    "    print(\"Predictions: \", predictions[0])\n",
    "    op = prediction[0]\n",
    " '''\n",
    "if __name__ == \"__main__\":\n",
    "\tapp.run()"
   ]
  },
  {
   "cell_type": "code",
   "execution_count": null,
   "id": "b9de0550",
   "metadata": {},
   "outputs": [],
   "source": []
  }
 ],
 "metadata": {
  "kernelspec": {
   "display_name": "Python 3 (ipykernel)",
   "language": "python",
   "name": "python3"
  },
  "language_info": {
   "codemirror_mode": {
    "name": "ipython",
    "version": 3
   },
   "file_extension": ".py",
   "mimetype": "text/x-python",
   "name": "python",
   "nbconvert_exporter": "python",
   "pygments_lexer": "ipython3",
   "version": "3.9.13"
  }
 },
 "nbformat": 4,
 "nbformat_minor": 5
}
